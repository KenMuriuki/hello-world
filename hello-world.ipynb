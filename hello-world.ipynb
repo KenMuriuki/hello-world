Hello, world!
Wlcome to my first website! I'm about to embark on the exciting journey of learning how to code. Won't you join me?
I accidentally forgot to add the file now I have to add this extra line. hahaha
